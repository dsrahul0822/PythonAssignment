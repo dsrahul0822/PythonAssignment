{
 "cells": [
  {
   "cell_type": "markdown",
   "id": "e065b462-83d4-42d1-9cd1-2f583213d96e",
   "metadata": {},
   "source": [
    "# 🏫 PYTHON SCHOOL QUEST: The Mystery of the Missing Student List!\n",
    "\n",
    "### 🚀 A Fun, Beginner-Friendly Python Adventure! 🚀\n",
    "\n",
    "#### 📚 Chapter 3: Recovering the Lost Student List\n",
    "\n",
    "##### After automating the student enrollment system and handling calculations with operators, Principal Williams has another challenge for the Tech Club!\n",
    "\n",
    "##### 📝 The Challenge:\n",
    "\n",
    "##### The school's student attendance list for an upcoming coding competition has gone missing from the system. Without this list, the school won’t be able to register students for the event!\n",
    "\n",
    "##### The Tech Club (Alex, Mia, and Jake) must use Python Lists to recover, sort, modify, and manage the student list before the registration deadline."
   ]
  },
  {
   "cell_type": "markdown",
   "id": "7cbed1cc-94f3-4df6-b580-131bd4be173c",
   "metadata": {},
   "source": [
    "#### 🔢 Python List Challenges\n",
    "\n",
    "#### Part 1: Creating & Accessing Lists\n",
    "\n",
    "#### 1️⃣ The Tech Club finds a broken student list in the system:\n",
    "\n",
    "**students = \"Liam, Emma, Olivia, Noah, Sophia\"**"
   ]
  },
  {
   "cell_type": "markdown",
   "id": "45a024b7-020f-47b9-9702-e0ee69549939",
   "metadata": {},
   "source": [
    "**But this is a string, not a list! Convert it into a Python list and print it.**"
   ]
  },
  {
   "cell_type": "code",
   "execution_count": null,
   "id": "f631c0f2-342c-494a-b64b-512871a237d2",
   "metadata": {},
   "outputs": [],
   "source": [
    "#Write the code here"
   ]
  },
  {
   "cell_type": "markdown",
   "id": "60072ef9-cec8-4e3f-ac24-149738cf64cf",
   "metadata": {},
   "source": [
    "#### 2️⃣ The teacher finds out that \"James\" was also supposed to be on the list. Add \"James\" to the list."
   ]
  },
  {
   "cell_type": "code",
   "execution_count": null,
   "id": "1a3eb826-534d-476d-89e5-cd3ef6d71d7c",
   "metadata": {},
   "outputs": [],
   "source": [
    "#Write the code here"
   ]
  },
  {
   "cell_type": "markdown",
   "id": "23b9736e-6279-45ee-a225-d39578c2b015",
   "metadata": {},
   "source": [
    "#### 3️⃣ Alex wants to check who the first and last student is. Write a Python command to display both."
   ]
  },
  {
   "cell_type": "code",
   "execution_count": null,
   "id": "6a665d48-d516-4f59-9d95-e400fbbd1871",
   "metadata": {},
   "outputs": [],
   "source": [
    "#Write the code here"
   ]
  },
  {
   "cell_type": "markdown",
   "id": "17aaee71-b4e1-4dce-a7b4-b52cec0ffcf6",
   "metadata": {},
   "source": [
    "#### Part 2: Modifying Lists\n",
    "\n",
    "#### 4️⃣ Mia realizes there was a typo! \"Olivia\" should be \"Olivia B.\" Modify the list to update the name."
   ]
  },
  {
   "cell_type": "code",
   "execution_count": null,
   "id": "eb8a4d0f-b0df-4c6b-84a7-b34c728eb570",
   "metadata": {},
   "outputs": [],
   "source": [
    "#Write the code here"
   ]
  },
  {
   "cell_type": "markdown",
   "id": "6a4f1d37-75c1-48f8-9176-5ff03f26676f",
   "metadata": {},
   "source": [
    "#### 5️⃣ Jake accidentally added \"Noah\" twice. Remove only one instance of \"Noah\" without deleting the whole list."
   ]
  },
  {
   "cell_type": "code",
   "execution_count": null,
   "id": "3d66bbfe-c99b-4391-9e6f-d543d63bf05e",
   "metadata": {},
   "outputs": [],
   "source": [
    "#Write the code here"
   ]
  },
  {
   "cell_type": "markdown",
   "id": "1dbba9ec-5c6a-4d61-8ec6-665b537cc937",
   "metadata": {},
   "source": [
    "#### 6️⃣ Principal Williams says that \"Ava\" was missing from the list. Insert \"Ava\" at index 3 without replacing any existing students."
   ]
  },
  {
   "cell_type": "code",
   "execution_count": null,
   "id": "371c654f-46c2-41f7-a563-8951d7b83fca",
   "metadata": {},
   "outputs": [],
   "source": [
    "#Write the code here"
   ]
  },
  {
   "cell_type": "markdown",
   "id": "44688f80-2115-4c91-9865-2a7f8d94b370",
   "metadata": {},
   "source": [
    "#### Part 3: Sorting & Reversing Lists\n",
    "\n",
    "#### 7️⃣ To make the list more organized, sort the student names alphabetically."
   ]
  },
  {
   "cell_type": "code",
   "execution_count": null,
   "id": "2d193b7a-ce59-4120-a361-48018a461e0a",
   "metadata": {},
   "outputs": [],
   "source": [
    "#Write the code here"
   ]
  },
  {
   "cell_type": "markdown",
   "id": "0b2e4567-00dc-4636-8e65-5556cbcab66a",
   "metadata": {},
   "source": [
    "#### 8️⃣ Mia suggests reversing the order of the list to check the last added names first. How can she do that?"
   ]
  },
  {
   "cell_type": "code",
   "execution_count": null,
   "id": "9238e0fd-41d9-4135-97b1-69daf2cfa490",
   "metadata": {},
   "outputs": [],
   "source": [
    "#Write the code here"
   ]
  },
  {
   "cell_type": "markdown",
   "id": "95b64e0c-4f09-4a7c-a743-47cddec605b0",
   "metadata": {},
   "source": [
    "#### Part 4: Slicing & Checking Elements\n",
    "\n",
    "#### 9️⃣ The competition only allows 4 students per school. Write a Python command to extract only the first 4 students from the list."
   ]
  },
  {
   "cell_type": "code",
   "execution_count": null,
   "id": "7b0c13fd-53e7-43dc-8c88-30d073ad3989",
   "metadata": {},
   "outputs": [],
   "source": [
    "#Write the code here"
   ]
  },
  {
   "cell_type": "markdown",
   "id": "bd8d4050-9580-4e28-b41d-3c4b26d35620",
   "metadata": {},
   "source": [
    "#### 🔟 Jake wants to check if \"Sophia\" is on the list. Write a command that prints \"Sophia is registered!\" if she is found."
   ]
  },
  {
   "cell_type": "code",
   "execution_count": null,
   "id": "9c8a5873-f308-4af6-ab1c-d9fddb3e9020",
   "metadata": {},
   "outputs": [],
   "source": [
    "#Write the code here"
   ]
  },
  {
   "cell_type": "markdown",
   "id": "1b0b2310-ef20-4c09-b1aa-efb6ab293ba9",
   "metadata": {},
   "source": [
    "#### Part 5: Advanced Operations\n",
    "\n",
    "#### 1️⃣1️⃣ The Tech Club finds an old list of students:"
   ]
  },
  {
   "cell_type": "code",
   "execution_count": 24,
   "id": "a72cf1d5-7780-457d-b392-3e51b6a0917a",
   "metadata": {},
   "outputs": [],
   "source": [
    "old_students = [\"Lucas\", \"Mia\", \"Henry\"]"
   ]
  },
  {
   "cell_type": "markdown",
   "id": "ddcf10c1-eb29-4a7b-8c69-70ea14489bfd",
   "metadata": {},
   "source": [
    "**Merge the old list with the new student list to make one combined list.**"
   ]
  },
  {
   "cell_type": "code",
   "execution_count": null,
   "id": "0491232b-e62a-46ae-aabf-8cba9b5e70fc",
   "metadata": {},
   "outputs": [],
   "source": [
    "#Write the code here"
   ]
  },
  {
   "cell_type": "markdown",
   "id": "06d2de2e-a2c8-446a-9408-b8e8c7ad814d",
   "metadata": {},
   "source": [
    "#### 1️⃣2️⃣ The school needs at least 10 students for the competition. Use a loop to add placeholder students (e.g., \"StudentX\") until the list has 10 names."
   ]
  },
  {
   "cell_type": "code",
   "execution_count": null,
   "id": "e3c800ad-6cf9-4f30-ba22-7bb00af7f9cc",
   "metadata": {},
   "outputs": [],
   "source": [
    "#Write the code here"
   ]
  },
  {
   "cell_type": "markdown",
   "id": "14896f53-1be3-490a-8313-d4bb23d897a3",
   "metadata": {},
   "source": [
    "#### 1️⃣3️⃣ Jake wants to check how many times \"Emma\" appears in the list. Write a command to count its occurrences."
   ]
  },
  {
   "cell_type": "code",
   "execution_count": null,
   "id": "a3bbe74b-620b-4f9f-a8a5-1849811e5ccc",
   "metadata": {},
   "outputs": [],
   "source": [
    "#Write the code here"
   ]
  },
  {
   "cell_type": "markdown",
   "id": "3d2433a2-b0b5-4822-b03c-35b14678230c",
   "metadata": {},
   "source": [
    "#### 1️⃣4️⃣ Some names are mistakenly repeated. Write a command to remove duplicate names while keeping the original order."
   ]
  },
  {
   "cell_type": "code",
   "execution_count": null,
   "id": "7d611fbb-1c59-4ffa-839c-2845dd617b28",
   "metadata": {},
   "outputs": [],
   "source": [
    "#Write the code here"
   ]
  },
  {
   "cell_type": "markdown",
   "id": "1dcd336f-51a6-4157-bc13-735b2daf6979",
   "metadata": {},
   "source": [
    "#### 1️⃣5️⃣ Principal Williams wants to start fresh. Write a Python command to clear all students from the list without deleting the variable."
   ]
  },
  {
   "cell_type": "code",
   "execution_count": null,
   "id": "353e3f9c-d9f2-4253-b11d-ad217db34dc3",
   "metadata": {},
   "outputs": [],
   "source": [
    "#Write the code here"
   ]
  },
  {
   "cell_type": "markdown",
   "id": "d8a4f325-e11d-4ea6-9c49-ecad4f292b16",
   "metadata": {},
   "source": [
    "# 📖 Story Conclusion:\n",
    "\n",
    "### After solving these Python List challenges, the Tech Club restores the missing student list in time! The school is now officially registered for the coding competition 🎉. However, the next challenge involves handling team assignments using Tuples… but that’s for the next adventure!"
   ]
  },
  {
   "cell_type": "markdown",
   "id": "192697db-ab4d-4f16-8cc5-2ef7b871eaa8",
   "metadata": {},
   "source": [
    "# 🎉 MISSION COMPLETE!\n",
    "## Great job, Alex! You have successfully helped Greenfield High using Python! 🚀💡"
   ]
  },
  {
   "cell_type": "markdown",
   "id": "f4dae7e5-8fe9-4a60-ae47-25c55f027a0a",
   "metadata": {},
   "source": [
    "**(c) Rahul Tiwari**"
   ]
  }
 ],
 "metadata": {
  "kernelspec": {
   "display_name": "Python 3 (ipykernel)",
   "language": "python",
   "name": "python3"
  },
  "language_info": {
   "codemirror_mode": {
    "name": "ipython",
    "version": 3
   },
   "file_extension": ".py",
   "mimetype": "text/x-python",
   "name": "python",
   "nbconvert_exporter": "python",
   "pygments_lexer": "ipython3",
   "version": "3.12.4"
  }
 },
 "nbformat": 4,
 "nbformat_minor": 5
}
