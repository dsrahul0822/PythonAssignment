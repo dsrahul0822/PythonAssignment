{
 "cells": [
  {
   "cell_type": "markdown",
   "id": "161967df-e6f5-4306-8ec6-6f0f8b1c14f6",
   "metadata": {},
   "source": [
    "# 📖 Story Continuation: The Duplicate Entries Mystery!\n",
    "## The coding competition is over, but now there's another problem! The event organizers noticed that some students were accidentally registered multiple times, and some students were missing from the final list of participants.\n",
    "\n",
    "### Principal Williams calls the Tech Club again! Alex, Mia, and Jake must use Python sets to clean up the participant data and ensure every student's participation is properly recorded.\n",
    "\n",
    "#### 🔢 Python Set Challenges\n",
    "##### Each challenge is a real-world problem the Tech Club needs to solve using Python sets.\n",
    "\n",
    "#### 1️⃣ Creating a Set of Participants\n",
    "##### The student registration system recorded duplicate entries. Convert the list of participants into a set to remove duplicates.\n",
    "**participants = [\"Alice\", \"Bob\", \"Charlie\", \"Alice\", \"David\", \"Charlie\", \"Eve\"]**\n"
   ]
  },
  {
   "cell_type": "code",
   "execution_count": null,
   "id": "dbd179bf-92e1-4b78-b951-7a2cc9ecb577",
   "metadata": {},
   "outputs": [],
   "source": [
    "#Write code here"
   ]
  },
  {
   "cell_type": "markdown",
   "id": "20707837-1bf5-42bf-b3b5-75ec100f50f4",
   "metadata": {},
   "source": [
    "#### 2️⃣ Adding a Late Entry\n",
    "##### Emma was accidentally left out. Add \"Emma\" to the set.\n"
   ]
  },
  {
   "cell_type": "code",
   "execution_count": null,
   "id": "e9d9259c-15c6-469d-bbef-f63683958ddc",
   "metadata": {},
   "outputs": [],
   "source": [
    "#Write code here"
   ]
  },
  {
   "cell_type": "markdown",
   "id": "2b4bd20c-1898-40ce-919a-5f0f0aeb1526",
   "metadata": {},
   "source": [
    "#### 3️⃣ Removing a Participant\n",
    "##### Bob couldn't attend the competition. Remove \"Bob\" from the set.\n"
   ]
  },
  {
   "cell_type": "code",
   "execution_count": null,
   "id": "983d155e-c6cf-4eb7-89b2-49fe497920c0",
   "metadata": {},
   "outputs": [],
   "source": [
    "#Write code here"
   ]
  },
  {
   "cell_type": "markdown",
   "id": "b93bd648-a575-49bb-9f9b-8568350c9fb9",
   "metadata": {},
   "source": [
    "#### 4️⃣ Checking for a Student\n",
    "##### Check if \"Alice\" participated in the competition.\n"
   ]
  },
  {
   "cell_type": "code",
   "execution_count": null,
   "id": "483e9b49-fe69-4bb9-910a-bb00aa480b78",
   "metadata": {},
   "outputs": [],
   "source": [
    "#Write code here"
   ]
  },
  {
   "cell_type": "markdown",
   "id": "bdde20ba-6c63-42da-9e7f-a5ec008c017e",
   "metadata": {},
   "source": [
    "#### 5️⃣ Finding Common Participants\n",
    "##### The school hosted another AI challenge. Find students who participated in both competitions.\n",
    "**coding_competition = {\"Alice\", \"Charlie\", \"David\", \"Eve\"}**\n",
    "\n",
    "**ai_challenge = {\"Charlie\", \"David\", \"Frank\", \"Grace\"}**\n"
   ]
  },
  {
   "cell_type": "markdown",
   "id": "85fd7993-4f30-42cc-a696-616f5693e336",
   "metadata": {},
   "source": [
    "#### 6️⃣ Finding Unique Participants\n",
    "##### Find students who only participated in the coding competition.\n"
   ]
  },
  {
   "cell_type": "code",
   "execution_count": null,
   "id": "f9831061-cf8d-40d5-b6a6-1bea7604a59f",
   "metadata": {},
   "outputs": [],
   "source": [
    "#Write code here"
   ]
  },
  {
   "cell_type": "markdown",
   "id": "8b0aa95f-2861-4ccd-97c2-e247e776dfcf",
   "metadata": {},
   "source": [
    "#### 7️⃣ Finding All Participants\n",
    "##### Get a list of all unique participants from both competitions.\n"
   ]
  },
  {
   "cell_type": "code",
   "execution_count": null,
   "id": "8ae2d475-03a5-452a-9dc4-979cf8904b51",
   "metadata": {},
   "outputs": [],
   "source": [
    "#Write code here"
   ]
  },
  {
   "cell_type": "markdown",
   "id": "6d5d0645-e928-4810-a477-340e9e482d98",
   "metadata": {},
   "source": [
    "#### 8️⃣ Checking for Subsets\n",
    "##### The top scorers are a subset of the competition participants. Check if one set is a subset of the other.\n",
    "**top_scorers = {\"Charlie\", \"Eve\"}**\n"
   ]
  },
  {
   "cell_type": "code",
   "execution_count": null,
   "id": "b1547d26-c8d4-4f9f-891b-cb9e2dfdf886",
   "metadata": {},
   "outputs": [],
   "source": [
    "#Write code here"
   ]
  },
  {
   "cell_type": "markdown",
   "id": "69d3c1c6-6902-4336-8324-8d15bd36d037",
   "metadata": {},
   "source": [
    "#### 9️⃣ Checking for Disjoint Sets\n",
    "##### The judges should have no overlap with the participants. Verify if these two sets are disjoint.\n",
    "**judges = {\"Mr. Smith\", \"Ms. Johnson\"}**\n"
   ]
  },
  {
   "cell_type": "code",
   "execution_count": null,
   "id": "beddd6c1-5d06-4f4d-b835-2dffd0119386",
   "metadata": {},
   "outputs": [],
   "source": [
    "#Write code here"
   ]
  },
  {
   "cell_type": "markdown",
   "id": "2ff43e0b-3a8c-4ca3-ab4b-91bda51184d4",
   "metadata": {},
   "source": [
    "#### 🔟 Finding Students in One Event but Not the Other\n",
    "##### Find students who participated in the AI challenge but not in the coding competition.\n"
   ]
  },
  {
   "cell_type": "code",
   "execution_count": null,
   "id": "49b3b8eb-bcf0-4b01-a52d-b5e5e9918feb",
   "metadata": {},
   "outputs": [],
   "source": [
    "#Write code here"
   ]
  },
  {
   "cell_type": "markdown",
   "id": "dbd54f99-a463-4194-a60c-cc4e1a10edee",
   "metadata": {},
   "source": [
    "#### 1️⃣1️⃣ Copying a Set\n",
    "##### Create a copy of the participants set and modify it without changing the original.\n"
   ]
  },
  {
   "cell_type": "code",
   "execution_count": null,
   "id": "bdbd29c1-8663-4cbc-8f26-42fbbdf3beb7",
   "metadata": {},
   "outputs": [],
   "source": [
    "#Write code here"
   ]
  },
  {
   "cell_type": "markdown",
   "id": "a39f3a2f-b6b7-45be-ad74-8ae55f700f4e",
   "metadata": {},
   "source": [
    "#### 1️⃣2️⃣ Clearing the Participant List\n",
    "##### After recording results, clear the participants set without deleting the variable.\n"
   ]
  },
  {
   "cell_type": "code",
   "execution_count": null,
   "id": "f0f7b870-8476-4118-82d8-92b2bc54c98b",
   "metadata": {},
   "outputs": [],
   "source": [
    "#Write code here"
   ]
  },
  {
   "cell_type": "markdown",
   "id": "5edbb5d4-b6fc-49bf-a117-ee653510a9b7",
   "metadata": {},
   "source": [
    "#### 1️⃣3️⃣ Converting a Set Back to a List\n",
    "##### Convert the participants set back into a list for further processing.\n"
   ]
  },
  {
   "cell_type": "code",
   "execution_count": null,
   "id": "9197b544-6cca-45a8-b40f-7bf3dc423768",
   "metadata": {},
   "outputs": [],
   "source": [
    "#Write code here"
   ]
  },
  {
   "cell_type": "markdown",
   "id": "5ff8a48e-14f0-4688-8df9-aa1979067d21",
   "metadata": {},
   "source": [
    "#### 1️⃣4️⃣ Set Length\n",
    "##### Find out how many unique students participated in the coding competition.\n"
   ]
  },
  {
   "cell_type": "code",
   "execution_count": null,
   "id": "9bc50829-b901-40f7-977c-ccea12ca7ef6",
   "metadata": {},
   "outputs": [],
   "source": [
    "#Write code here"
   ]
  },
  {
   "cell_type": "markdown",
   "id": "73adcd82-6752-4057-a219-d5ca7276c3ba",
   "metadata": {},
   "source": [
    "#### 1️⃣5️⃣ Set Operations in a Single Line\n",
    "##### Write a one-liner to:\n",
    "**Find students who participated in both competitions.**\n",
    "\n",
    "**Find students who were only in one competition.**\n"
   ]
  },
  {
   "cell_type": "code",
   "execution_count": null,
   "id": "6e7ea745-5207-4b49-a5dc-03079b89730b",
   "metadata": {},
   "outputs": [],
   "source": [
    "#Write code here"
   ]
  },
  {
   "cell_type": "markdown",
   "id": "7beb0bcb-a30a-484a-94e8-c770dbf12977",
   "metadata": {},
   "source": [
    "# 🏆 Story Conclusion\n",
    "## After solving these Python set challenges, the Tech Club successfully cleans up the participant data and ensures fair competition results! 🎉"
   ]
  },
  {
   "cell_type": "markdown",
   "id": "5ef4d817-a401-4459-a289-d021817b0b0a",
   "metadata": {},
   "source": [
    "**(c) Rahul Tiwari**"
   ]
  }
 ],
 "metadata": {
  "kernelspec": {
   "display_name": "Python 3 (ipykernel)",
   "language": "python",
   "name": "python3"
  },
  "language_info": {
   "codemirror_mode": {
    "name": "ipython",
    "version": 3
   },
   "file_extension": ".py",
   "mimetype": "text/x-python",
   "name": "python",
   "nbconvert_exporter": "python",
   "pygments_lexer": "ipython3",
   "version": "3.12.4"
  }
 },
 "nbformat": 4,
 "nbformat_minor": 5
}
